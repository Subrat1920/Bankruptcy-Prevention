{
 "cells": [
  {
   "cell_type": "markdown",
   "id": "bb9c89f9-cb2c-4096-bbc7-6e6be59494dc",
   "metadata": {},
   "source": [
    "# Bankruptcy Prevention "
   ]
  },
  {
   "cell_type": "markdown",
   "id": "e04681d5-76e0-4a97-8e31-8859166245af",
   "metadata": {},
   "source": [
    "#### This is a classification project, since the variable to predict is binary (bankruptcy or non-bankruptcy). The goal here is to model the probability that a business goes bankrupt from different features."
   ]
  },
  {
   "cell_type": "markdown",
   "id": "0dbbd9b3-cc8a-4ea0-a3ed-f4f14af1fbca",
   "metadata": {},
   "source": [
    "# Data Cleaning and Pre-Processing"
   ]
  },
  {
   "cell_type": "markdown",
   "id": "f4b4741f-0ba1-428e-a3dd-7705a2a55bfc",
   "metadata": {},
   "source": [
    "### Notebook Walkthrough\n",
    "    - Importing Libraries\n",
    "    - Loading Dataset\n",
    "    - Pre-Process Dataset\n",
    "    - Saving the data in a csv file"
   ]
  },
  {
   "cell_type": "code",
   "execution_count": 25,
   "id": "cef99bf3-320b-464d-a6cd-73e04b3f3f4d",
   "metadata": {},
   "outputs": [
    {
     "name": "stdout",
     "output_type": "stream",
     "text": [
      "Imported\n"
     ]
    }
   ],
   "source": [
    "## importing libraries\n",
    "import pandas as pd\n",
    "import numpy as np\n",
    "import matplotlib.pyplot as plt\n",
    "import seaborn as sns\n",
    "import warnings\n",
    "warnings.filterwarnings('ignore')\n",
    "pd.set_option('display.max_columns', None)\n",
    "%matplotlib inline\n",
    "print('Imported')"
   ]
  },
  {
   "cell_type": "code",
   "execution_count": 26,
   "id": "d1cf4bb6-b3f1-4df9-a9bb-6c2bd8d1d6b5",
   "metadata": {},
   "outputs": [
    {
     "data": {
      "text/html": [
       "<div>\n",
       "<style scoped>\n",
       "    .dataframe tbody tr th:only-of-type {\n",
       "        vertical-align: middle;\n",
       "    }\n",
       "\n",
       "    .dataframe tbody tr th {\n",
       "        vertical-align: top;\n",
       "    }\n",
       "\n",
       "    .dataframe thead th {\n",
       "        text-align: right;\n",
       "    }\n",
       "</style>\n",
       "<table border=\"1\" class=\"dataframe\">\n",
       "  <thead>\n",
       "    <tr style=\"text-align: right;\">\n",
       "      <th></th>\n",
       "      <th>industrial_risk; management_risk; financial_flexibility; credibility; competitiveness; operating_risk; class</th>\n",
       "    </tr>\n",
       "  </thead>\n",
       "  <tbody>\n",
       "    <tr>\n",
       "      <th>0</th>\n",
       "      <td>0.5;1;0;0;0;0.5;bankruptcy</td>\n",
       "    </tr>\n",
       "    <tr>\n",
       "      <th>1</th>\n",
       "      <td>0;1;0;0;0;1;bankruptcy</td>\n",
       "    </tr>\n",
       "    <tr>\n",
       "      <th>2</th>\n",
       "      <td>1;0;0;0;0;1;bankruptcy</td>\n",
       "    </tr>\n",
       "    <tr>\n",
       "      <th>3</th>\n",
       "      <td>0.5;0;0;0.5;0;1;bankruptcy</td>\n",
       "    </tr>\n",
       "    <tr>\n",
       "      <th>4</th>\n",
       "      <td>1;1;0;0;0;1;bankruptcy</td>\n",
       "    </tr>\n",
       "  </tbody>\n",
       "</table>\n",
       "</div>"
      ],
      "text/plain": [
       "  industrial_risk; management_risk; financial_flexibility; credibility; competitiveness; operating_risk; class\n",
       "0                         0.5;1;0;0;0;0.5;bankruptcy                                                          \n",
       "1                             0;1;0;0;0;1;bankruptcy                                                          \n",
       "2                             1;0;0;0;0;1;bankruptcy                                                          \n",
       "3                         0.5;0;0;0.5;0;1;bankruptcy                                                          \n",
       "4                             1;1;0;0;0;1;bankruptcy                                                          "
      ]
     },
     "execution_count": 26,
     "metadata": {},
     "output_type": "execute_result"
    }
   ],
   "source": [
    "df = pd.read_excel('Datasets/bankruptcy-prevention.xlsx')\n",
    "df.head()"
   ]
  },
  {
   "cell_type": "code",
   "execution_count": 27,
   "id": "ed7eadcc-9ea0-4a4d-bae2-d05951c68b65",
   "metadata": {},
   "outputs": [
    {
     "name": "stdout",
     "output_type": "stream",
     "text": [
      "Number of Rows 250\n",
      "Number of Columns 1\n"
     ]
    }
   ],
   "source": [
    "rows, columns = df.shape\n",
    "print(f'Number of Rows {rows}')\n",
    "print(f'Number of Columns {columns}')"
   ]
  },
  {
   "cell_type": "code",
   "execution_count": 28,
   "id": "ae11c648-f2bf-4c23-a3f0-0442baa018be",
   "metadata": {},
   "outputs": [
    {
     "data": {
      "text/plain": [
       "'1;0;0;0;0;1;bankruptcy'"
      ]
     },
     "execution_count": 28,
     "metadata": {},
     "output_type": "execute_result"
    }
   ],
   "source": [
    "## checking for separation\n",
    "df.iloc[2,0]"
   ]
  },
  {
   "cell_type": "code",
   "execution_count": 29,
   "id": "9d8adc06-77d1-432b-8714-9bda6a10f9c3",
   "metadata": {},
   "outputs": [
    {
     "data": {
      "text/plain": [
       "Index(['industrial_risk; management_risk; financial_flexibility; credibility; competitiveness; operating_risk; class'], dtype='object')"
      ]
     },
     "execution_count": 29,
     "metadata": {},
     "output_type": "execute_result"
    }
   ],
   "source": [
    "## columns of the dataset\n",
    "df.columns"
   ]
  },
  {
   "cell_type": "code",
   "execution_count": 30,
   "id": "9f2aa3f1-8f11-48f9-82c1-9088f10dfed6",
   "metadata": {},
   "outputs": [
    {
     "data": {
      "text/plain": [
       "['industrial_risk',\n",
       " 'management_risk',\n",
       " 'financial_flexibility',\n",
       " 'credibility',\n",
       " 'competitiveness',\n",
       " 'operating_risk',\n",
       " 'class']"
      ]
     },
     "execution_count": 30,
     "metadata": {},
     "output_type": "execute_result"
    }
   ],
   "source": [
    "import re\n",
    "## preprocess the columns into a separate list to track the columns\n",
    "columns = list(df.columns)                                       ## column lists\n",
    "columns = [re.sub(';','',col) for col in columns]                ## substitute ';' with blank spaces\n",
    "columns = [x.split(' ') for x in columns]                        ## split the string for separate column names\n",
    "columns = [x for sublist in columns for x in sublist]            ## change the dimensionality to 1\n",
    "columns"
   ]
  },
  {
   "cell_type": "code",
   "execution_count": 31,
   "id": "a6cf08a8-30de-47e4-9890-7bc3d754fa41",
   "metadata": {},
   "outputs": [
    {
     "data": {
      "text/plain": [
       "1              0;1;0;0;0;1;bankruptcy\n",
       "2              1;0;0;0;0;1;bankruptcy\n",
       "3          0.5;0;0;0.5;0;1;bankruptcy\n",
       "4              1;1;0;0;0;1;bankruptcy\n",
       "5          1;1;0;0.5;0;0.5;bankruptcy\n",
       "                    ...              \n",
       "245        0;1;1;1;1;1;non-bankruptcy\n",
       "246      1;1;0.5;1;1;0;non-bankruptcy\n",
       "247    0;1;1;0.5;0.5;0;non-bankruptcy\n",
       "248    1;0;0.5;1;0.5;0;non-bankruptcy\n",
       "249    1;0;0.5;0.5;1;1;non-bankruptcy\n",
       "Name: industrial_risk; management_risk; financial_flexibility; credibility; competitiveness; operating_risk; class, Length: 249, dtype: object"
      ]
     },
     "execution_count": 31,
     "metadata": {},
     "output_type": "execute_result"
    }
   ],
   "source": [
    "raw_data = df.iloc[1:,0]\n",
    "raw_data"
   ]
  },
  {
   "cell_type": "code",
   "execution_count": 32,
   "id": "52739037-b5bc-44f6-a27c-310725b7aafd",
   "metadata": {},
   "outputs": [
    {
     "data": {
      "text/html": [
       "<div>\n",
       "<style scoped>\n",
       "    .dataframe tbody tr th:only-of-type {\n",
       "        vertical-align: middle;\n",
       "    }\n",
       "\n",
       "    .dataframe tbody tr th {\n",
       "        vertical-align: top;\n",
       "    }\n",
       "\n",
       "    .dataframe thead th {\n",
       "        text-align: right;\n",
       "    }\n",
       "</style>\n",
       "<table border=\"1\" class=\"dataframe\">\n",
       "  <thead>\n",
       "    <tr style=\"text-align: right;\">\n",
       "      <th></th>\n",
       "      <th>0</th>\n",
       "      <th>1</th>\n",
       "      <th>2</th>\n",
       "      <th>3</th>\n",
       "      <th>4</th>\n",
       "      <th>5</th>\n",
       "      <th>6</th>\n",
       "    </tr>\n",
       "  </thead>\n",
       "  <tbody>\n",
       "    <tr>\n",
       "      <th>1</th>\n",
       "      <td>0</td>\n",
       "      <td>1</td>\n",
       "      <td>0</td>\n",
       "      <td>0</td>\n",
       "      <td>0</td>\n",
       "      <td>1</td>\n",
       "      <td>bankruptcy</td>\n",
       "    </tr>\n",
       "    <tr>\n",
       "      <th>2</th>\n",
       "      <td>1</td>\n",
       "      <td>0</td>\n",
       "      <td>0</td>\n",
       "      <td>0</td>\n",
       "      <td>0</td>\n",
       "      <td>1</td>\n",
       "      <td>bankruptcy</td>\n",
       "    </tr>\n",
       "    <tr>\n",
       "      <th>3</th>\n",
       "      <td>0.5</td>\n",
       "      <td>0</td>\n",
       "      <td>0</td>\n",
       "      <td>0.5</td>\n",
       "      <td>0</td>\n",
       "      <td>1</td>\n",
       "      <td>bankruptcy</td>\n",
       "    </tr>\n",
       "    <tr>\n",
       "      <th>4</th>\n",
       "      <td>1</td>\n",
       "      <td>1</td>\n",
       "      <td>0</td>\n",
       "      <td>0</td>\n",
       "      <td>0</td>\n",
       "      <td>1</td>\n",
       "      <td>bankruptcy</td>\n",
       "    </tr>\n",
       "    <tr>\n",
       "      <th>5</th>\n",
       "      <td>1</td>\n",
       "      <td>1</td>\n",
       "      <td>0</td>\n",
       "      <td>0.5</td>\n",
       "      <td>0</td>\n",
       "      <td>0.5</td>\n",
       "      <td>bankruptcy</td>\n",
       "    </tr>\n",
       "  </tbody>\n",
       "</table>\n",
       "</div>"
      ],
      "text/plain": [
       "     0  1  2    3  4    5           6\n",
       "1    0  1  0    0  0    1  bankruptcy\n",
       "2    1  0  0    0  0    1  bankruptcy\n",
       "3  0.5  0  0  0.5  0    1  bankruptcy\n",
       "4    1  1  0    0  0    1  bankruptcy\n",
       "5    1  1  0  0.5  0  0.5  bankruptcy"
      ]
     },
     "execution_count": 32,
     "metadata": {},
     "output_type": "execute_result"
    }
   ],
   "source": [
    "## create a separate dataframe and separate the values into separate columns\n",
    "df_new = raw_data.str.split(';', expand=True)\n",
    "df_new.head()"
   ]
  },
  {
   "cell_type": "code",
   "execution_count": 33,
   "id": "9ef4f82c-7c87-423f-8747-ea4a018d10db",
   "metadata": {},
   "outputs": [
    {
     "data": {
      "text/html": [
       "<div>\n",
       "<style scoped>\n",
       "    .dataframe tbody tr th:only-of-type {\n",
       "        vertical-align: middle;\n",
       "    }\n",
       "\n",
       "    .dataframe tbody tr th {\n",
       "        vertical-align: top;\n",
       "    }\n",
       "\n",
       "    .dataframe thead th {\n",
       "        text-align: right;\n",
       "    }\n",
       "</style>\n",
       "<table border=\"1\" class=\"dataframe\">\n",
       "  <thead>\n",
       "    <tr style=\"text-align: right;\">\n",
       "      <th></th>\n",
       "      <th>industrial_risk</th>\n",
       "      <th>management_risk</th>\n",
       "      <th>financial_flexibility</th>\n",
       "      <th>credibility</th>\n",
       "      <th>competitiveness</th>\n",
       "      <th>operating_risk</th>\n",
       "      <th>class</th>\n",
       "    </tr>\n",
       "  </thead>\n",
       "  <tbody>\n",
       "    <tr>\n",
       "      <th>1</th>\n",
       "      <td>0</td>\n",
       "      <td>1</td>\n",
       "      <td>0</td>\n",
       "      <td>0</td>\n",
       "      <td>0</td>\n",
       "      <td>1</td>\n",
       "      <td>bankruptcy</td>\n",
       "    </tr>\n",
       "    <tr>\n",
       "      <th>2</th>\n",
       "      <td>1</td>\n",
       "      <td>0</td>\n",
       "      <td>0</td>\n",
       "      <td>0</td>\n",
       "      <td>0</td>\n",
       "      <td>1</td>\n",
       "      <td>bankruptcy</td>\n",
       "    </tr>\n",
       "    <tr>\n",
       "      <th>3</th>\n",
       "      <td>0.5</td>\n",
       "      <td>0</td>\n",
       "      <td>0</td>\n",
       "      <td>0.5</td>\n",
       "      <td>0</td>\n",
       "      <td>1</td>\n",
       "      <td>bankruptcy</td>\n",
       "    </tr>\n",
       "    <tr>\n",
       "      <th>4</th>\n",
       "      <td>1</td>\n",
       "      <td>1</td>\n",
       "      <td>0</td>\n",
       "      <td>0</td>\n",
       "      <td>0</td>\n",
       "      <td>1</td>\n",
       "      <td>bankruptcy</td>\n",
       "    </tr>\n",
       "    <tr>\n",
       "      <th>5</th>\n",
       "      <td>1</td>\n",
       "      <td>1</td>\n",
       "      <td>0</td>\n",
       "      <td>0.5</td>\n",
       "      <td>0</td>\n",
       "      <td>0.5</td>\n",
       "      <td>bankruptcy</td>\n",
       "    </tr>\n",
       "  </tbody>\n",
       "</table>\n",
       "</div>"
      ],
      "text/plain": [
       "  industrial_risk management_risk financial_flexibility credibility  \\\n",
       "1               0               1                     0           0   \n",
       "2               1               0                     0           0   \n",
       "3             0.5               0                     0         0.5   \n",
       "4               1               1                     0           0   \n",
       "5               1               1                     0         0.5   \n",
       "\n",
       "  competitiveness operating_risk       class  \n",
       "1               0              1  bankruptcy  \n",
       "2               0              1  bankruptcy  \n",
       "3               0              1  bankruptcy  \n",
       "4               0              1  bankruptcy  \n",
       "5               0            0.5  bankruptcy  "
      ]
     },
     "execution_count": 33,
     "metadata": {},
     "output_type": "execute_result"
    }
   ],
   "source": [
    "## assigning proper columns to the new dataframe\n",
    "df_new.columns = columns\n",
    "df_new.head()"
   ]
  },
  {
   "cell_type": "code",
   "execution_count": 34,
   "id": "a13899d6-f752-45d3-a130-5afa6c6f44d0",
   "metadata": {},
   "outputs": [
    {
     "name": "stdout",
     "output_type": "stream",
     "text": [
      "<class 'pandas.core.frame.DataFrame'>\n",
      "RangeIndex: 249 entries, 1 to 249\n",
      "Data columns (total 7 columns):\n",
      " #   Column                 Non-Null Count  Dtype \n",
      "---  ------                 --------------  ----- \n",
      " 0   industrial_risk        249 non-null    object\n",
      " 1   management_risk        249 non-null    object\n",
      " 2   financial_flexibility  249 non-null    object\n",
      " 3   credibility            249 non-null    object\n",
      " 4   competitiveness        249 non-null    object\n",
      " 5   operating_risk         249 non-null    object\n",
      " 6   class                  249 non-null    object\n",
      "dtypes: object(7)\n",
      "memory usage: 13.7+ KB\n"
     ]
    }
   ],
   "source": [
    "## information of the dataset (new)\n",
    "df_new.info()"
   ]
  },
  {
   "cell_type": "code",
   "execution_count": 35,
   "id": "7cb96d31-3158-48cb-9f48-ad77dd0cc0cd",
   "metadata": {},
   "outputs": [],
   "source": [
    "## the numerical values are in string / object format, change them into numerical format\n",
    "for col in df_new.columns[:-1]:\n",
    "    df_new[col] = pd.to_numeric(df_new[col], errors='coerce')   ## conver forcefully to float value"
   ]
  },
  {
   "cell_type": "code",
   "execution_count": 36,
   "id": "48efe365-30fd-48ea-8e93-338fca18d668",
   "metadata": {},
   "outputs": [
    {
     "name": "stdout",
     "output_type": "stream",
     "text": [
      "<class 'pandas.core.frame.DataFrame'>\n",
      "RangeIndex: 249 entries, 1 to 249\n",
      "Data columns (total 7 columns):\n",
      " #   Column                 Non-Null Count  Dtype  \n",
      "---  ------                 --------------  -----  \n",
      " 0   industrial_risk        249 non-null    float64\n",
      " 1   management_risk        249 non-null    float64\n",
      " 2   financial_flexibility  249 non-null    float64\n",
      " 3   credibility            249 non-null    float64\n",
      " 4   competitiveness        249 non-null    float64\n",
      " 5   operating_risk         249 non-null    float64\n",
      " 6   class                  249 non-null    object \n",
      "dtypes: float64(6), object(1)\n",
      "memory usage: 13.7+ KB\n"
     ]
    }
   ],
   "source": [
    "df_new.info()"
   ]
  },
  {
   "cell_type": "code",
   "execution_count": 38,
   "id": "33f06209-75f2-4e07-ac6a-3a69995f1e73",
   "metadata": {},
   "outputs": [
    {
     "data": {
      "text/plain": [
       "industrial_risk          0\n",
       "management_risk          0\n",
       "financial_flexibility    0\n",
       "credibility              0\n",
       "competitiveness          0\n",
       "operating_risk           0\n",
       "class                    0\n",
       "dtype: int64"
      ]
     },
     "execution_count": 38,
     "metadata": {},
     "output_type": "execute_result"
    }
   ],
   "source": [
    "## checking for null values\n",
    "df_new.isnull().sum()"
   ]
  },
  {
   "cell_type": "markdown",
   "id": "a6502cdc-4624-4df7-a8e3-854191157ecb",
   "metadata": {},
   "source": [
    "So, there is no null values present in the data"
   ]
  },
  {
   "cell_type": "code",
   "execution_count": 39,
   "id": "77b0b44c-02c0-4ed3-9e19-6b9b87ec4aa4",
   "metadata": {},
   "outputs": [
    {
     "name": "stdout",
     "output_type": "stream",
     "text": [
      "Number of Rows 249\n",
      "Number of Columns 7\n"
     ]
    }
   ],
   "source": [
    "rows, columns = df_new.shape\n",
    "print(f'Number of Rows {rows}')\n",
    "print(f'Number of Columns {columns}')"
   ]
  },
  {
   "cell_type": "code",
   "execution_count": 40,
   "id": "960b6745-9b22-49a3-9c54-e24f0ddc5911",
   "metadata": {},
   "outputs": [
    {
     "name": "stdout",
     "output_type": "stream",
     "text": [
      "Saved to Datasets\n"
     ]
    }
   ],
   "source": [
    "## saving the new data in a csv file\n",
    "df_new.to_csv('Datasets/pre_processed_data.csv')\n",
    "print('Saved to Datasets')"
   ]
  }
 ],
 "metadata": {
  "kernelspec": {
   "display_name": "Python 3 (ipykernel)",
   "language": "python",
   "name": "python3"
  },
  "language_info": {
   "codemirror_mode": {
    "name": "ipython",
    "version": 3
   },
   "file_extension": ".py",
   "mimetype": "text/x-python",
   "name": "python",
   "nbconvert_exporter": "python",
   "pygments_lexer": "ipython3",
   "version": "3.11.5"
  }
 },
 "nbformat": 4,
 "nbformat_minor": 5
}
